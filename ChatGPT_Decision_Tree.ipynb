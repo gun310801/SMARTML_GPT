{
 "cells": [
  {
   "cell_type": "code",
   "execution_count": 2,
   "id": "021d047a",
   "metadata": {},
   "outputs": [
    {
     "name": "stdout",
     "output_type": "stream",
     "text": [
      "Accuracy: 0.9285714285714286\n",
      "{'criterion': 'log_loss', 'splitter': 'random', 'max_depth': 3, 'min_samples_split': 2, 'min_samples_leaf': 1, 'min_weight_fraction_leaf': 0.0, 'max_features': None, 'random_state': None, 'max_leaf_nodes': None, 'min_impurity_decrease': 0.0, 'class_weight': None, 'ccp_alpha': 0.0}\n"
     ]
    }
   ],
   "source": [
    "import json\n",
    "import pandas as pd\n",
    "from sklearn.tree import DecisionTreeClassifier\n",
    "from sklearn.model_selection import train_test_split\n",
    "from sklearn.metrics import accuracy_score\n",
    "import numpy as np\n",
    "\n",
    "def to_numeric(F6):\n",
    "    if F6 == \"?\":\n",
    "        return np.nan\n",
    "    else:\n",
    "        return int(F6)\n",
    "\n",
    "# Load parameters from JSON\n",
    "with open('sample.json', 'r') as file:\n",
    "    parameters = json.load(file)\n",
    "\n",
    "your_data = pd.read_csv(parameters['filename'])\n",
    "your_data['F6'] = your_data['F6'].apply(to_numeric)\n",
    "mean_F6 = your_data['F6'].mean()\n",
    "your_data['F6'] = your_data['F6'].fillna(mean_F6)\n",
    "\n",
    "#Check for target_variable is present or not\n",
    "target_variable = parameters.get(\"target_variable\", None)\n",
    "if target_variable is None:\n",
    "    raise ValueError(\"Target variable not specified in the parameters.\")\n",
    "\n",
    "X = your_data.drop(columns=[target_variable])\n",
    "y = your_data[target_variable]\n",
    "\n",
    "# Define default parameters for DecisionTreeClassifier\n",
    "default_decision_tree_parameters = {\n",
    "    \"criterion\": \"gini\",\n",
    "    \"splitter\": \"best\",\n",
    "    \"max_depth\": None,\n",
    "    \"min_samples_split\": 2,\n",
    "    \"min_samples_leaf\": 1,\n",
    "    \"min_weight_fraction_leaf\": 0.0,\n",
    "    \"max_features\": None,\n",
    "    \"random_state\": None,\n",
    "    \"max_leaf_nodes\": None,\n",
    "    \"min_impurity_decrease\": 0.0,\n",
    "    \"class_weight\": None,\n",
    "    \"ccp_alpha\": 0.0\n",
    "}\n",
    "\n",
    "X_train, X_test, y_train, y_test = train_test_split(X, y, test_size=parameters['split'], random_state=42)\n",
    "\n",
    "\n",
    "# Merge default and user-provided parameters\n",
    "merged_parameters = {**default_decision_tree_parameters, **parameters.get(\"decision_tree_parameters\", {})}\n",
    "# print(merged_parameters)\n",
    "\n",
    "# Initialize the Decision Tree model with the merged parameters\n",
    "dt_model = DecisionTreeClassifier(**merged_parameters)\n",
    "\n",
    "# Train the Decision Tree model\n",
    "dt_model.fit(X_train, y_train)\n",
    "\n",
    "# Make predictions on the test set\n",
    "y_pred = dt_model.predict(X_test)\n",
    "\n",
    "# Evaluate the model\n",
    "accuracy = accuracy_score(y_test, y_pred)\n",
    "print(f\"Accuracy: {accuracy}\")\n",
    "print(merged_parameters)\n"
   ]
  },
  {
   "cell_type": "code",
   "execution_count": null,
   "id": "092e5869",
   "metadata": {},
   "outputs": [],
   "source": []
  }
 ],
 "metadata": {
  "kernelspec": {
   "display_name": "Python 3 (ipykernel)",
   "language": "python",
   "name": "python3"
  },
  "language_info": {
   "codemirror_mode": {
    "name": "ipython",
    "version": 3
   },
   "file_extension": ".py",
   "mimetype": "text/x-python",
   "name": "python",
   "nbconvert_exporter": "python",
   "pygments_lexer": "ipython3",
   "version": "3.11.5"
  }
 },
 "nbformat": 4,
 "nbformat_minor": 5
}
