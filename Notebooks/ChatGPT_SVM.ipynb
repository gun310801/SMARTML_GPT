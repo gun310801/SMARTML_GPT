{
 "cells": [
  {
   "cell_type": "code",
   "execution_count": 8,
   "id": "33efc74e",
   "metadata": {},
   "outputs": [
    {
     "name": "stdout",
     "output_type": "stream",
     "text": [
      "Accuracy: 0.9714285714285714\n"
     ]
    }
   ],
   "source": [
    "import json\n",
    "import pandas as pd\n",
    "from sklearn.pipeline import make_pipeline\n",
    "from sklearn.preprocessing import StandardScaler\n",
    "from sklearn.svm import SVC\n",
    "from sklearn.model_selection import train_test_split\n",
    "from sklearn.metrics import accuracy_score\n",
    "import numpy as np\n",
    "\n",
    "def to_numeric(F6):\n",
    "    if F6 == \"?\":\n",
    "        return np.nan\n",
    "    else:\n",
    "        return int(F6)\n",
    "\n",
    "# Load parameters from JSON\n",
    "with open('svm_sample.json', 'r') as file:\n",
    "    parameters = json.load(file)\n",
    "    \n",
    "your_data = pd.read_csv(parameters['filename'])\n",
    "your_data['F6'] = your_data['F6'].apply(to_numeric)\n",
    "mean_F6 = your_data['F6'].mean()\n",
    "your_data['F6'] = your_data['F6'].fillna(mean_F6)\n",
    "\n",
    "#Check for target_variable is present or not\n",
    "target_variable = parameters.get(\"target_variable\", None)\n",
    "if target_variable is None:\n",
    "    raise ValueError(\"Target variable not specified in the parameters.\")\n",
    "\n",
    "X = your_data.drop(columns=[target_variable])\n",
    "y = your_data[target_variable]\n",
    "\n",
    "# Define default parameters for SVMClassifier\n",
    "default_svm_parameters = {\n",
    "    'C': 1.0,\n",
    "    'kernel': 'rbf',\n",
    "    'degree': 3,\n",
    "    'gamma': 'scale',\n",
    "    'coef0': 0.0,\n",
    "    'shrinking': True,\n",
    "    'probability': False,\n",
    "    'tol': 0.001,\n",
    "    'cache_size': 200,\n",
    "    'class_weight': None,\n",
    "    'verbose': False,\n",
    "    'max_iter': -1,\n",
    "    'decision_function_shape': 'ovr',\n",
    "    'break_ties': False,\n",
    "    'random_state': None\n",
    "}\n",
    "\n",
    "X_train, X_test, y_train, y_test = train_test_split(X, y, test_size=parameters['split'], random_state=42)\n",
    "\n",
    "\n",
    "# Merge default and user-provided parameters\n",
    "merged_parameters = {**default_svm_parameters, **parameters.get(\"svm_parameters\", {})}\n",
    "# print(merged_parameters)\n",
    "\n",
    "# Initialize the Decision Tree model with the merged parameters\n",
    "dt_model = make_pipeline(StandardScaler(), SVC(**merged_parameters))\n",
    "\n",
    "# Train the Decision Tree model\n",
    "dt_model.fit(X_train, y_train)\n",
    "\n",
    "# Make predictions on the test set\n",
    "y_pred = dt_model.predict(X_test)\n",
    "\n",
    "# Evaluate the model\n",
    "accuracy = accuracy_score(y_test, y_pred)\n",
    "print(f\"Accuracy: {accuracy}\")\n"
   ]
  },
  {
   "cell_type": "code",
   "execution_count": null,
   "id": "903a8e9a",
   "metadata": {},
   "outputs": [],
   "source": []
  }
 ],
 "metadata": {
  "kernelspec": {
   "display_name": "Python 3 (ipykernel)",
   "language": "python",
   "name": "python3"
  },
  "language_info": {
   "codemirror_mode": {
    "name": "ipython",
    "version": 3
   },
   "file_extension": ".py",
   "mimetype": "text/x-python",
   "name": "python",
   "nbconvert_exporter": "python",
   "pygments_lexer": "ipython3",
   "version": "3.11.4"
  }
 },
 "nbformat": 4,
 "nbformat_minor": 5
}
