{
 "cells": [
  {
   "cell_type": "code",
   "execution_count": 1,
   "metadata": {},
   "outputs": [],
   "source": [
    "from qdrant_client import QdrantClient\n",
    "\n",
    "\n",
    "def add_svm_documents(client):\n",
    "    with open('svm.txt', 'r', encoding='utf-8') as file:\n",
    "        documents = file.readlines()\n",
    "    documents = [doc.strip() for doc in documents]\n",
    "    client.add(collection_name=\"knowledge-base\", documents=documents)\n",
    "\n",
    "# def add_decision_tree_documents(client):\n",
    "#     with open('decision_tree.txt', 'r', encoding='utf-8') as file:\n",
    "#         documents = file.readlines()\n",
    "#     documents = [doc.strip() for doc in documents]\n",
    "#     client.add(collection_name=\"knowledge-base\", documents=documents)\n",
    "\n",
    "def add_decision_tree_documents(client):\n",
    "    with open('decision_tree.txt', 'r', encoding='utf-8') as file:\n",
    "        documents = file.readlines()\n",
    "    documents = [doc.strip() for doc in documents]\n",
    "    client.add(collection_name=\"knowledge-base\", documents=documents)\n",
    "\n",
    "def add_sklearn_tree_documents(client):\n",
    "    with open('sklearn.tree.txt', 'r', encoding='utf-8') as file:\n",
    "        documents = file.readlines()\n",
    "    documents = [doc.strip() for doc in documents]\n",
    "    client.add(collection_name=\"knowledge-base\", documents=documents)\n",
    "\n",
    "client = QdrantClient(\":memory:\")\n",
    "\n",
    "user_input = input(\"Enter the model you want to add documents from (decision_tree, sklearn_tree, etc.): \")\n",
    "\n",
    "if user_input.lower() == 'decision_tree':\n",
    "    add_decision_tree_documents(client)\n",
    "elif user_input.lower() == 'sklearn_tree':\n",
    "    add_sklearn_tree_documents(client)\n",
    "else:\n",
    "    add_svm_documents(client)"
   ]
  },
  {
   "cell_type": "code",
   "execution_count": 2,
   "metadata": {},
   "outputs": [
    {
     "name": "stdout",
     "output_type": "stream",
     "text": [
      "huggingface/tokenizers: The current process just got forked, after parallelism has already been used. Disabling parallelism to avoid deadlocks...\n",
      "To disable this warning, you can either:\n",
      "\t- Avoid using `tokenizers` before the fork if possible\n",
      "\t- Explicitly set the environment variable TOKENIZERS_PARALLELISM=(true | false)\n"
     ]
    }
   ],
   "source": [
    "import json\n",
    "import pandas as pd\n",
    "from sklearn.pipeline import make_pipeline\n",
    "from sklearn.preprocessing import StandardScaler\n",
    "from sklearn.svm import SVC\n",
    "from sklearn.linear_model import LogisticRegression\n",
    "from sklearn.tree import DecisionTreeClassifier\n",
    "from sklearn.model_selection import train_test_split\n",
    "from sklearn.metrics import accuracy_score\n",
    "from sklearn.metrics import confusion_matrix, classification_report\n",
    "import numpy as np\n",
    "import seaborn as sns\n",
    "def to_numeric(F6):\n",
    "    if F6 == \"?\":\n",
    "        return np.nan\n",
    "    else:\n",
    "        return int(F6)\n",
    "\n",
    "def file_preprocess(filename):\n",
    "    df = pd.read_csv(filename)\n",
    "    df['F6'] = df['F6'].apply(to_numeric)\n",
    "    mean_F6 = df['F6'].mean()\n",
    "    df['F6'] = df['F6'].fillna(mean_F6)\n",
    "    return df\n",
    "\n",
    "def runner(json_file, model_file):\n",
    "    # Load parameters from JSON\n",
    "    with open(json_file, 'r') as file:\n",
    "        parameters = json.load(file)\n",
    "    with open(model_file, 'r') as file:\n",
    "        model_param = json.load(file)\n",
    "\n",
    "    model_name = parameters['model_name']\n",
    "    df = file_preprocess(parameters['filename'])\n",
    "\n",
    "    #Check for target_variable is present or not\n",
    "    target_variable = parameters.get(\"target_variable\", None)\n",
    "    if target_variable is None:\n",
    "        raise ValueError(\"Target variable not specified in the parameters.\")\n",
    "\n",
    "    X = df.drop(columns=[target_variable])\n",
    "    y = df[target_variable]\n",
    "\n",
    "    # Define default parameters for SVMClassifier\n",
    "\n",
    "    X_train, X_test, y_train, y_test = train_test_split(X, y, test_size=parameters['split'], random_state=42)\n",
    "\n",
    "    def_param = {\n",
    "      \"decision_tree\" : {\"param_dict\" : \"default_decision_tree_parameters\", \"lib_name\" : \"DecisionTreeClassifier\"},\n",
    "      \"svm\" : {\"param_dict\" : \"default_svm_parameters\", \"lib_name\" : \"SVC\"},\n",
    "      \"lr\" : {\"param_dict\" : \"default_lr_parameters\", \"lib_name\" : \"LogisticRegression\"}\n",
    "    }\n",
    "\n",
    "    params = def_param[model_name][\"param_dict\"]\n",
    "#     print(params)\n",
    "    param = model_param[params]\n",
    "    lib_name = def_param[model_name][\"lib_name\"]\n",
    "#     print(param)\n",
    "\n",
    "    # Merge default and user-provided parameters\n",
    "    merged_parameters = {**param, **parameters.get(\"param\", {})}\n",
    "    # print(merged_parameters)\n",
    "    \n",
    "    # Initialize the Decision Tree model with the merged parameters\n",
    "    model = eval(lib_name)(**merged_parameters)\n",
    "\n",
    "    # Train the Decision Tree model\n",
    "    model.fit(X_train, y_train)\n",
    "    para= model.get_params()\n",
    "    # Make predictions on the test set\n",
    "    y_pred = model.predict(X_test)\n",
    "\n",
    "    # Evaluate the model\n",
    "    #accuracy = accuracy_score(y_test, y_pred)\n",
    "    \n",
    "    acc = accuracy_score(y_test, y_pred)\n",
    "#     print(f\"Accuracy: {acc}\")\n",
    "    cr = classification_report(y_test,y_pred)\n",
    "#     print(cr)\n",
    "    cf_matrix = confusion_matrix(y_test, y_pred)\n",
    "#     print(cf_matrix)\n",
    "    \n",
    "    mmy_dict = {\"accuracy\" : acc, \"class_report\" : cr, \"conf_mat\" : cf_matrix,\"paramters\" : para}\n",
    "    print(acc)\n",
    "    return mmy_dict\n",
    "    print(merged_parameters)\n",
    "    \n",
    "def get_completion(prompt, model=\"gpt-3.5-turbo\"):\n",
    "    messages = [{\"role\": \"user\", \"content\": prompt}]\n",
    "    response = ai.chat.completions.create(\n",
    "        model=model,\n",
    "        messages=messages,\n",
    "        temperature=0, # this is the degree of randomness of the model's output\n",
    "    )\n",
    "    return response\n",
    "def make_json(chat_history1):\n",
    "    prompt = f\"\"\"\n",
    "    read the chat history between the user and the chatbot and create a dictionary of the model parameters finalized by them. include filename and append the dataset filename with .csv extension. create  a dictionary named param (which would be the parameters of the model) and write all the parameters asked by the user in the datatype of what the function requires. \n",
    "    include 'target_variable' as mentioned in the prompt. and 'split' should be 0.2 unless some other value is specified. an example for svm model might look like this (with curly brackets instead of sqauare brackets) also make sure you write the model name compatible to the sklearn libraries:\n",
    "    [\n",
    "    \n",
    "    \"filename\" : \"breast-cancer-wisconsin.csv\",\n",
    "    \"model_name\" : \"decision_tree\",\n",
    "    \"param\": [\n",
    "        \"kernel\": \"linear\"\n",
    "    ],\n",
    "    \"target_variable\": \"Class\",\n",
    "    \"split\" : 0.2\n",
    "    ]\n",
    "    text = ```{chat_history1}```\n",
    "    \"\"\"\n",
    "    json_objects = get_completion(prompt)\n",
    "    json_object = json_objects.choices[0].message.content\n",
    "\n",
    "    print(json_objects)\n",
    "    data_dict = json.loads(json_object)\n",
    "    json_file_path = \"sample.json\"\n",
    "    with open(json_file_path, 'w') as json_file:\n",
    "        json.dump(data_dict, json_file,indent=2)\n",
    "    result = runner(\"sample.json\", \"model_parameters.json\")\n",
    "    return result\n"
   ]
  },
  {
   "cell_type": "code",
   "execution_count": 3,
   "metadata": {},
   "outputs": [],
   "source": [
    "import os\n",
    "os.environ[\"OPENAI_API_KEY\"] = \"###\"\n",
    "from openai import OpenAI\n",
    "ai = OpenAI()\n",
    "def rag(chat_history: list[str], question: str, n_points: int = 3) -> str:\n",
    "    results = client.query(\n",
    "        collection_name=\"knowledge-base\",\n",
    "        query_text=question,\n",
    "        limit=n_points,\n",
    "    )\n",
    "    \n",
    "    context = \"\\n\".join(r.document for r in results)\n",
    "    metaprompt = f\"\"\"\n",
    "    You are a helpful machine learning bot.\n",
    "    Answer the following question using the provided context.\n",
    "    If the user asks you to build a model, return -1 as response. Always make sure you are checking this first before giving any response\n",
    "    Also refer to the chat history while answering a question. consider info given by the assisstant only as truth.\n",
    "    The context provided is only documentation for referring information. When asked direct questions about model building remember answers in the chat history and when asked factual question about the docs explicitly, refer to the context documentation. \n",
    "    If you can't find the answer, do not pretend you know it, but answer \"I don't know\".\n",
    "    If you have limited information on something, state is and then answer \"this is all I know.\" irrespective of how much their word count expectation is.\n",
    "    \n",
    "    Question: {question}\n",
    "    CHAT HISTORY : {chat_history}\n",
    "   Context:\n",
    "    {context.strip()}\n",
    "\n",
    "    Answer:\n",
    "    \"\"\"\n",
    "\n",
    "    results = ai.chat.completions.create(\n",
    "        model=\"gpt-3.5-turbo\",\n",
    "        messages=[\n",
    "            {\"role\": \"system\", \"content\": \"You are a helpful machine learning bot.\"},\n",
    "            {\"role\": \"user\", \"content\": metaprompt},\n",
    "        ],\n",
    "    )\n",
    "\n",
    "    return results"
   ]
  },
  {
   "cell_type": "code",
   "execution_count": null,
   "metadata": {},
   "outputs": [],
   "source": []
  },
  {
   "cell_type": "code",
   "execution_count": null,
   "metadata": {
    "scrolled": false
   },
   "outputs": [
    {
     "name": "stdout",
     "output_type": "stream",
     "text": [
      "Welcome to the Transformers chatbot! Type done when you want run the model. Type 'exit' to stop.\n"
     ]
    },
    {
     "name": "stderr",
     "output_type": "stream",
     "text": [
      "/var/folders/09/kkd4kch12b35yvx1xk3m4gr00000gn/T/ipykernel_8579/1434911890.py:42: DeprecationWarning: on_submit is deprecated. Instead, set the .continuous_update attribute to False and observe the value changing with: mywidget.observe(callback, 'value').\n",
      "  input_box.on_submit(on_submit)\n"
     ]
    },
    {
     "data": {
      "application/vnd.jupyter.widget-view+json": {
       "model_id": "cc6dbaee0d5347399560ae643f29bf61",
       "version_major": 2,
       "version_minor": 0
      },
      "text/plain": [
       "Text(value='', placeholder='Please enter your question:')"
      ]
     },
     "metadata": {},
     "output_type": "display_data"
    },
    {
     "name": "stdout",
     "output_type": "stream",
     "text": [
      "huggingface/tokenizers: The current process just got forked, after parallelism has already been used. Disabling parallelism to avoid deadlocks...\n",
      "To disable this warning, you can either:\n",
      "\t- Avoid using `tokenizers` before the fork if possible\n",
      "\t- Explicitly set the environment variable TOKENIZERS_PARALLELISM=(true | false)\n"
     ]
    },
    {
     "data": {
      "application/vnd.jupyter.widget-view+json": {
       "model_id": "a390ae0bce8a4ce085a35d47fd6c0a1b",
       "version_major": 2,
       "version_minor": 0
      },
      "text/plain": [
       "HTML(value='<b>User:</b> what is kernel')"
      ]
     },
     "metadata": {},
     "output_type": "display_data"
    },
    {
     "data": {
      "application/vnd.jupyter.widget-view+json": {
       "model_id": "6b9219f86f5e46b99f190f6cac5b6913",
       "version_major": 2,
       "version_minor": 0
      },
      "text/plain": [
       "HTML(value='<b><font color=\"blue\">Chatbot:</font></b> A kernel in machine learning refers to a function that c…"
      ]
     },
     "metadata": {},
     "output_type": "display_data"
    },
    {
     "name": "stdout",
     "output_type": "stream",
     "text": [
      "ChatCompletion(id='chatcmpl-8QKmxKbqpgbWbJzNCF0CZFfszXBCn', choices=[Choice(finish_reason='stop', index=0, message=ChatCompletionMessage(content='{\\n    \"filename\": \"breast-cancer-wisconsin.csv\",\\n    \"model_name\": \"svm\",\\n    \"param\": {\\n        \"kernel\": \"poly\"\\n    },\\n    \"target_variable\": \"Class\",\\n    \"split\": 0.2\\n}', role='assistant', function_call=None, tool_calls=None))], created=1701287131, model='gpt-3.5-turbo-0613', object='chat.completion', system_fingerprint=None, usage=CompletionUsage(completion_tokens=55, prompt_tokens=366, total_tokens=421))\n",
      "0.6785714285714286\n",
      "              precision    recall  f1-score   support\n",
      "\n",
      "           2       0.68      1.00      0.81        95\n",
      "           4       0.00      0.00      0.00        45\n",
      "\n",
      "    accuracy                           0.68       140\n",
      "   macro avg       0.34      0.50      0.40       140\n",
      "weighted avg       0.46      0.68      0.55       140\n",
      "\n"
     ]
    },
    {
     "name": "stderr",
     "output_type": "stream",
     "text": [
      "/Users/gunik/anaconda3/lib/python3.11/site-packages/sklearn/metrics/_classification.py:1469: UndefinedMetricWarning: Precision and F-score are ill-defined and being set to 0.0 in labels with no predicted samples. Use `zero_division` parameter to control this behavior.\n",
      "  _warn_prf(average, modifier, msg_start, len(result))\n",
      "/Users/gunik/anaconda3/lib/python3.11/site-packages/sklearn/metrics/_classification.py:1469: UndefinedMetricWarning: Precision and F-score are ill-defined and being set to 0.0 in labels with no predicted samples. Use `zero_division` parameter to control this behavior.\n",
      "  _warn_prf(average, modifier, msg_start, len(result))\n",
      "/Users/gunik/anaconda3/lib/python3.11/site-packages/sklearn/metrics/_classification.py:1469: UndefinedMetricWarning: Precision and F-score are ill-defined and being set to 0.0 in labels with no predicted samples. Use `zero_division` parameter to control this behavior.\n",
      "  _warn_prf(average, modifier, msg_start, len(result))\n"
     ]
    },
    {
     "data": {
      "application/vnd.jupyter.widget-view+json": {
       "model_id": "d01544ee28d546c9b67c9f5b0bba4290",
       "version_major": 2,
       "version_minor": 0
      },
      "text/plain": [
       "HTML(value='<b>User:</b> build a svm model with for breast-cancer-wisconsin dataset where kernel = poly')"
      ]
     },
     "metadata": {},
     "output_type": "display_data"
    },
    {
     "data": {
      "application/vnd.jupyter.widget-view+json": {
       "model_id": "b9ec2523e5ac4c3a9adb69ecf7e10d52",
       "version_major": 2,
       "version_minor": 0
      },
      "text/plain": [
       "HTML(value='<b><font color=\"blue\">Chatbot:</font></b> The resulting accuracy is 0.6785714285714286')"
      ]
     },
     "metadata": {},
     "output_type": "display_data"
    },
    {
     "data": {
      "image/png": "[encoded data removed]",
      "text/plain": [
       "<Figure size 640x480 with 2 Axes>"
      ]
     },
     "metadata": {},
     "output_type": "display_data"
    }
   ],
   "source": [
    "from IPython.display import display\n",
    "import ipywidgets as widgets\n",
    "chat_history = []\n",
    "\n",
    "def on_submit(_):\n",
    "    query = input_box.value\n",
    "    \n",
    "\n",
    "    if query.lower() == 'exit':\n",
    "        print(\"Thank you for using the State of the Union chatbot!\")\n",
    "        return\n",
    "    # if query.lower() == 'done':\n",
    "\n",
    "    #     human_tex = chat_history\n",
    "    #     eval_metrics= make_json(human_tex)\n",
    "    #     chat_history.append(('what is the accuracy?', f'The resulting accuracy is {eval_metrics}'))\n",
    "    #     # chat_history.append(('what is the resulting accuracy?', 'the resulting accuracy is '+str(eval_metrics)))\n",
    "    #     return\n",
    "    \n",
    "    response = rag(chat_history, query)\n",
    "    result = response.choices[0].message.content\n",
    "    if result == '-1':\n",
    "        chat_history.append((query, 'building model'))\n",
    "        # chat_history.append(('what is the resulting accuracy?', 'the resulting accuracy is '+str(eval_metrics)))\n",
    "        human_tex = chat_history\n",
    "        eval_metrics= make_json(human_tex)\n",
    "        # chat_history.append(('what is the accuracy?', f'The resulting accuracy is {eval_metrics}'))\n",
    "        result = 'The resulting accuracy is ' + str(eval_metrics)\n",
    "       # print(eval_metrics['class_report'])\n",
    "       # sns.heatmap(eval_metrics['conf_mat'], annot=True)\n",
    "        # chat_history.append(('what is the resulting accuracy?', 'the resulting accuracy is '+str(eval_metrics)))\n",
    "\n",
    "    chat_history.append((query, result))\n",
    "\n",
    "    display(widgets.HTML(f'<b>User:</b> {query}'))\n",
    "    display(widgets.HTML(f'<b><font color=\"blue\">Chatbot:</font></b> {result}'))\n",
    "    input_box.value = \"\"\n",
    "\n",
    "print(\"Welcome to the Transformers chatbot! Type done when you want run the model. Type 'exit' to stop.\")\n",
    "\n",
    "input_box = widgets.Text(placeholder='Please enter your question:')\n",
    "input_box.on_submit(on_submit)\n",
    "\n",
    "display(input_box)"
   ]
  },
  {
   "cell_type": "code",
   "execution_count": null,
   "metadata": {},
   "outputs": [
    {
     "data": {
      "text/plain": [
       "[('what is linear?',\n",
       "  'Linear refers to a type of kernel used in the LinearSVC algorithm. When the kernel parameter is set to \"linear\", LinearSVC assigns weights to the features based on their importance.'),\n",
       " ('build me a model on breast-cancer-wisconsin dataset with kernel = linear',\n",
       "  'building model')]"
      ]
     },
     "execution_count": 12,
     "metadata": {},
     "output_type": "execute_result"
    }
   ],
   "source": [
    "chat_history"
   ]
  },
  {
   "cell_type": "code",
   "execution_count": null,
   "metadata": {},
   "outputs": [],
   "source": []
  }
 ],
 "metadata": {
  "kernelspec": {
   "display_name": "Python 3 (ipykernel)",
   "language": "python",
   "name": "python3"
  },
  "language_info": {
   "codemirror_mode": {
    "name": "ipython",
    "version": 3
   },
   "file_extension": ".py",
   "mimetype": "text/x-python",
   "name": "python",
   "nbconvert_exporter": "python",
   "pygments_lexer": "ipython3",
   "version": "3.11.5"
  }
 },
 "nbformat": 4,
 "nbformat_minor": 2
}
